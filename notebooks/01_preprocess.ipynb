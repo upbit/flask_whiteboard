{
 "cells": [
  {
   "cell_type": "markdown",
   "metadata": {},
   "source": [
    "# 分词/关键词提取测试\n",
    "### jieba分词"
   ]
  },
  {
   "cell_type": "code",
   "execution_count": 1,
   "metadata": {
    "collapsed": true
   },
   "outputs": [],
   "source": [
    "import jieba\n",
    "import jieba.analyse\n",
    "\n",
    "query = \"这些都是近几年来截然不同的故事，何况你的还只是事故呢？\""
   ]
  },
  {
   "cell_type": "code",
   "execution_count": 4,
   "metadata": {
    "collapsed": false
   },
   "outputs": [
    {
     "name": "stdout",
     "output_type": "stream",
     "text": [
      "这些,都,是,近几年来,截然不同,的,故事,，,何况,你,的,还,只是,事故,呢,？\n"
     ]
    }
   ],
   "source": [
    "cuts = jieba.cut(query)\n",
    "print \",\".join(cuts)"
   ]
  },
  {
   "cell_type": "markdown",
   "metadata": {},
   "source": [
    "### 提取关键词(按IDF)"
   ]
  },
  {
   "cell_type": "code",
   "execution_count": 9,
   "metadata": {
    "collapsed": false
   },
   "outputs": [
    {
     "name": "stdout",
     "output_type": "stream",
     "text": [
      "截然不同,事故,故事\n"
     ]
    }
   ],
   "source": [
    "tags = jieba.analyse.extract_tags(query, topK=int(len(query)/2.5))\n",
    "print \",\".join(tags)"
   ]
  },
  {
   "cell_type": "markdown",
   "metadata": {},
   "source": [
    "### 使用stopwords提取更准确的关键词"
   ]
  },
  {
   "cell_type": "code",
   "execution_count": 6,
   "metadata": {
    "collapsed": false
   },
   "outputs": [
    {
     "name": "stdout",
     "output_type": "stream",
     "text": [
      "截然不同,事故,故事\n"
     ]
    }
   ],
   "source": [
    "jieba.analyse.set_stop_words(\"./dicts/stopword_1208_utf8.txt\")\n",
    "# jieba.analyse.set_idf_path(\"./dicts/idf.txt.big\")\n",
    "\n",
    "tags = jieba.analyse.extract_tags(query, topK=int(len(query)/2.5))\n",
    "print(\",\".join(tags))"
   ]
  },
  {
   "cell_type": "markdown",
   "metadata": {
    "collapsed": true
   },
   "source": [
    "# TO-DO\n",
    "\n",
    "## 基于用户搜索词的纠正/联想\n",
    "\n",
    "1. [ ] query分词\n",
    "2. [ ] word2vec训练分词后结果，SG模型\n",
    "\n",
    "## 基于query的推荐\n",
    "\n",
    "1. [ ] query提取关键词\n",
    "2. [ ] word2vec训练\n"
   ]
  },
  {
   "cell_type": "code",
   "execution_count": null,
   "metadata": {
    "collapsed": true
   },
   "outputs": [],
   "source": []
  }
 ],
 "metadata": {
  "kernelspec": {
   "display_name": "Python 2",
   "language": "python",
   "name": "python2"
  },
  "language_info": {
   "codemirror_mode": {
    "name": "ipython",
    "version": 2
   },
   "file_extension": ".py",
   "mimetype": "text/x-python",
   "name": "python",
   "nbconvert_exporter": "python",
   "pygments_lexer": "ipython2",
   "version": "2.7.11"
  }
 },
 "nbformat": 4,
 "nbformat_minor": 0
}
